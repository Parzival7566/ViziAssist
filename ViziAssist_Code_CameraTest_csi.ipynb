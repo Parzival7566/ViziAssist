{
 "cells": [
  {
   "cell_type": "markdown",
   "id": "486e2e4d",
   "metadata": {},
   "source": [
    "# Using the csi_camera library"
   ]
  },
  {
   "cell_type": "code",
   "execution_count": null,
   "id": "f14cdcf7",
   "metadata": {},
   "outputs": [],
   "source": [
    "#Checking if Camera is available\n",
    "!ls -ltrh /dev/video*"
   ]
  },
  {
   "cell_type": "code",
   "execution_count": null,
   "id": "2c49ae11",
   "metadata": {},
   "outputs": [],
   "source": [
    "#Creating the camera object\n",
    "from jetcam.csi_camera import CSICamera\n",
    "\n",
    "camera = CSICamera(width=224, height=224, capture_device=0) # confirm the capture_device number"
   ]
  },
  {
   "cell_type": "code",
   "execution_count": null,
   "id": "850eb0c1",
   "metadata": {},
   "outputs": [],
   "source": [
    "#Image Capture for testing\n",
    "image = camera.read()\n",
    "\n",
    "print(image.shape)\n"
   ]
  },
  {
   "cell_type": "code",
   "execution_count": null,
   "id": "d59312bf",
   "metadata": {},
   "outputs": [],
   "source": [
    "print(camera.value.shape)"
   ]
  },
  {
   "cell_type": "code",
   "execution_count": null,
   "id": "842c33ff",
   "metadata": {},
   "outputs": [],
   "source": [
    "#Wigit to view image stream\n",
    "import ipywidgets\n",
    "from IPython.display import display\n",
    "from jetcam.utils import bgr8_to_jpeg\n",
    "\n",
    "image_widget = ipywidgets.Image(format='jpeg')\n",
    "\n",
    "image_widget.value = bgr8_to_jpeg(image)\n",
    "\n",
    "display(image_widget)"
   ]
  },
  {
   "cell_type": "code",
   "execution_count": null,
   "id": "1647d8c0",
   "metadata": {},
   "outputs": [],
   "source": [
    "#Display the livestream\n",
    "camera.running = True\n",
    "\n",
    "def update_image(change):\n",
    "    image = change['new']\n",
    "    image_widget.value = bgr8_to_jpeg(image)\n",
    "    \n",
    "camera.observe(update_image, names='value')"
   ]
  },
  {
   "cell_type": "code",
   "execution_count": null,
   "id": "ebaa2913",
   "metadata": {},
   "outputs": [],
   "source": [
    "#Stop livestream\n",
    "camera.unobserve(update_image, names='value')"
   ]
  },
  {
   "cell_type": "markdown",
   "id": "4f0df3fc",
   "metadata": {},
   "source": [
    "# Alternate Method(Using the trailets library)"
   ]
  },
  {
   "cell_type": "code",
   "execution_count": null,
   "id": "84dd74a3",
   "metadata": {},
   "outputs": [],
   "source": [
    "import traitlets\n",
    "\n",
    "camera_link = traitlets.dlink((camera, 'value'), (image_widget, 'value'), transform=bgr8_to_jpeg)"
   ]
  },
  {
   "cell_type": "code",
   "execution_count": null,
   "id": "5f6b2b6f",
   "metadata": {},
   "outputs": [],
   "source": [
    "#Disconnect camera\n",
    "camera_link.unlink()"
   ]
  },
  {
   "cell_type": "code",
   "execution_count": null,
   "id": "cca06661",
   "metadata": {},
   "outputs": [],
   "source": [
    "#Reconnect camera\n",
    "camera_link.link()"
   ]
  },
  {
   "cell_type": "code",
   "execution_count": null,
   "id": "3ac261aa",
   "metadata": {},
   "outputs": [],
   "source": [
    "#Shutdown the camera before opening new notebook\n",
    "camera.running = False\n",
    "camera.cap.release()"
   ]
  }
 ],
 "metadata": {
  "kernelspec": {
   "display_name": "Python 3 (ipykernel)",
   "language": "python",
   "name": "python3"
  },
  "language_info": {
   "codemirror_mode": {
    "name": "ipython",
    "version": 3
   },
   "file_extension": ".py",
   "mimetype": "text/x-python",
   "name": "python",
   "nbconvert_exporter": "python",
   "pygments_lexer": "ipython3",
   "version": "3.9.12"
  }
 },
 "nbformat": 4,
 "nbformat_minor": 5
}
